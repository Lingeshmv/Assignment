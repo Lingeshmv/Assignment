{
 "cells": [
  {
   "cell_type": "markdown",
   "id": "70766d31-e268-46b1-a5fd-ef40bdf940ef",
   "metadata": {},
   "source": [
    "Function"
   ]
  },
  {
   "cell_type": "markdown",
   "id": "177caddf-9d23-4702-8d59-6b526634601c",
   "metadata": {},
   "source": [
    "Write a function add_numbers that takes two numbers as arguments and returns their sum.\r\n",
    "\r\n"
   ]
  },
  {
   "cell_type": "code",
   "execution_count": 1,
   "id": "a55cc810-8106-450b-8488-76bc0846893a",
   "metadata": {},
   "outputs": [
    {
     "name": "stdout",
     "output_type": "stream",
     "text": [
      "10\n"
     ]
    }
   ],
   "source": [
    "def add_numbers(a,b):\n",
    "    return a+b\n",
    "\n",
    "print(add_numbers(3,7))"
   ]
  },
  {
   "cell_type": "markdown",
   "id": "7493dd4b-3996-4507-a156-f60fb2139387",
   "metadata": {},
   "source": [
    "Write a function multiply_numbers that takes two numbers as arguments and returns their product.,9))"
   ]
  },
  {
   "cell_type": "code",
   "execution_count": 2,
   "id": "93dd7cad-7f4d-446f-8e4f-9cfb29295669",
   "metadata": {},
   "outputs": [
    {
     "name": "stdout",
     "output_type": "stream",
     "text": [
      "20\n"
     ]
    }
   ],
   "source": [
    "def multiply_numbers(x,y):\n",
    "    return x*y\n",
    "\n",
    "print(multiply_numbers(4,5))"
   ]
  },
  {
   "cell_type": "markdown",
   "id": "284831c0-58e8-4506-abcc-af7fcc64e040",
   "metadata": {},
   "source": [
    "Write a function divide_numbers that takes two numbers as arguments and returns their quotient. Make sure to handle the case where the second number is 0. error)"
   ]
  },
  {
   "cell_type": "code",
   "execution_count": 4,
   "id": "eb652d9b-ae56-48cb-9932-8cb6dc82286f",
   "metadata": {},
   "outputs": [
    {
     "name": "stdout",
     "output_type": "stream",
     "text": [
      "the answer is division by zero\n"
     ]
    }
   ],
   "source": [
    "def divide_numbers(e,f):\n",
    "    return e/f\n",
    "    \n",
    "try:\n",
    "    print(divide_numbers(20,0))\n",
    "except ZeroDivisionError as error:\n",
    "    print(\"the answer is\", error)"
   ]
  },
  {
   "cell_type": "markdown",
   "id": "78e967ca-1284-4dd7-abdc-ebe2e2019463",
   "metadata": {},
   "source": [
    "Write a function calculate_average that takes a lot of numbers as an argument and returns their average.5,63,73]))"
   ]
  },
  {
   "cell_type": "code",
   "execution_count": 5,
   "id": "cadd469a-19e5-493a-85dc-766509f7fafa",
   "metadata": {},
   "outputs": [
    {
     "name": "stdout",
     "output_type": "stream",
     "text": [
      "The average is: 30.5\n"
     ]
    }
   ],
   "source": [
    "def calculate_average(n):\n",
    "    p=0\n",
    "\n",
    "    for i in n:\n",
    "        p=p+i\n",
    "    avg=p/len(n)\n",
    "    return avg \n",
    "\n",
    "\n",
    "print(\"The average is:\",calculate_average([7,16,25,34,45,56]))"
   ]
  },
  {
   "cell_type": "markdown",
   "id": "d31b2d10-ad46-4684-b21a-948463fe5ec1",
   "metadata": {},
   "source": [
    "Write a function is_prime that takes a number as an argument and returns True if the number is prime and False otherwise.s_prime(23))"
   ]
  },
  {
   "cell_type": "code",
   "execution_count": 6,
   "id": "c93848df-0fcd-4bea-b643-9a7625d839bd",
   "metadata": {},
   "outputs": [
    {
     "name": "stdout",
     "output_type": "stream",
     "text": [
      "True\n"
     ]
    }
   ],
   "source": [
    "def is_prime(L):\n",
    "\n",
    "    if L<2:\n",
    "        return False\n",
    "    h=2\n",
    "    while h*h <= L:\n",
    "            if L % h ==0:\n",
    "                return False            \n",
    "            h=h+1\n",
    "    return True\n",
    "            \n",
    "print(is_prime(23))"
   ]
  },
  {
   "cell_type": "markdown",
   "id": "94175fd2-151f-408c-bf7f-acfd9bada3e7",
   "metadata": {},
   "source": [
    "OOPs"
   ]
  },
  {
   "cell_type": "markdown",
   "id": "f17d85e3-617e-4847-930d-4234bcbea743",
   "metadata": {},
   "source": [
    "Create a class Bank with attributes name and accounts. Add methods add_account, remove_account, and get_total_balance that add an account to the list, remove an account from the list, and return the total balance of all accounts, respectively.\n",
    "class Bank:"
   ]
  },
  {
   "cell_type": "code",
   "execution_count": 13,
   "id": "58038589-19e0-4b7e-a1ac-a56395c4dccb",
   "metadata": {},
   "outputs": [
    {
     "name": "stdout",
     "output_type": "stream",
     "text": [
      "Added account is: ling07\n",
      "Added account is: sang18\n",
      "Added account is: kish47\n",
      "Removed account is: sang18\n"
     ]
    },
    {
     "data": {
      "text/plain": [
       "['ling07', 'kish47']"
      ]
     },
     "execution_count": 13,
     "metadata": {},
     "output_type": "execute_result"
    }
   ],
   "source": [
    "class Bank:\n",
    "\n",
    "    def __init__(self, name):        \n",
    "        self.name = name\n",
    "        self.accounts = []    \n",
    "        \n",
    "    def add_account(self, account):\n",
    "        self.accounts.append(account)\n",
    "        print(\"Added account is:\", account)\n",
    "        \n",
    "    def remove_account(self, account):\n",
    "        self.accounts.remove(account) \n",
    "        print(\"Removed account is:\", account)\n",
    "        \n",
    "    def get_total_balance(self):\n",
    "        return self.accounts\n",
    "        \n",
    "d = Bank('sbi')\n",
    "\n",
    "d.add_account('ling07')\n",
    "d.add_account('sang18') \n",
    "d.add_account('kish47')\n",
    "d.remove_account('sang18')\n",
    "d.get_total_balance() "
   ]
  },
  {
   "cell_type": "code",
   "execution_count": 14,
   "id": "f5e7c17d-7e3a-44a4-8a13-c0155d9180d0",
   "metadata": {},
   "outputs": [
    {
     "data": {
      "text/plain": [
       "['ling07', 'kish47']"
      ]
     },
     "execution_count": 14,
     "metadata": {},
     "output_type": "execute_result"
    }
   ],
   "source": [
    "d.accounts"
   ]
  },
  {
   "cell_type": "code",
   "execution_count": 15,
   "id": "590f1a8a-7175-4d1e-89d3-f20ea0b2b1ad",
   "metadata": {},
   "outputs": [
    {
     "data": {
      "text/plain": [
       "('sbi', ['ling07', 'kish47'])"
      ]
     },
     "execution_count": 15,
     "metadata": {},
     "output_type": "execute_result"
    }
   ],
   "source": [
    "d.name, d.accounts"
   ]
  },
  {
   "cell_type": "code",
   "execution_count": null,
   "id": "9befca10-ce48-478a-8243-93dbf60bac77",
   "metadata": {},
   "outputs": [],
   "source": []
  }
 ],
 "metadata": {
  "kernelspec": {
   "display_name": "Python 3 (ipykernel)",
   "language": "python",
   "name": "python3"
  },
  "language_info": {
   "codemirror_mode": {
    "name": "ipython",
    "version": 3
   },
   "file_extension": ".py",
   "mimetype": "text/x-python",
   "name": "python",
   "nbconvert_exporter": "python",
   "pygments_lexer": "ipython3",
   "version": "3.11.4"
  }
 },
 "nbformat": 4,
 "nbformat_minor": 5
}

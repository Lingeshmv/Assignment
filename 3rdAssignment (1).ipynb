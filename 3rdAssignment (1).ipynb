{
 "cells": [
  {
   "cell_type": "markdown",
   "id": "59d79002-c003-4b83-8b72-a857b26e1705",
   "metadata": {},
   "source": [
    "1. Import pandas and read the data into a DataFrame. Print the first 5 rows of the DataFrame.\n",
    "\n",
    "\n"
   ]
  },
  {
   "cell_type": "code",
   "execution_count": 8,
   "id": "c8e4444a-88da-4ae0-864d-17b4f4027a4c",
   "metadata": {},
   "outputs": [],
   "source": [
    "import pandas as pd"
   ]
  },
  {
   "cell_type": "code",
   "execution_count": 13,
   "id": "1fb6043f-c243-464a-9778-86cf612d2537",
   "metadata": {},
   "outputs": [],
   "source": [
    "dataframe=pd.read_csv('pandas_question.csv')"
   ]
  },
  {
   "cell_type": "code",
   "execution_count": 15,
   "id": "b6227d1b-587a-4bcf-98e0-38230b3dafdc",
   "metadata": {},
   "outputs": [
    {
     "data": {
      "text/html": [
       "<div>\n",
       "<style scoped>\n",
       "    .dataframe tbody tr th:only-of-type {\n",
       "        vertical-align: middle;\n",
       "    }\n",
       "\n",
       "    .dataframe tbody tr th {\n",
       "        vertical-align: top;\n",
       "    }\n",
       "\n",
       "    .dataframe thead th {\n",
       "        text-align: right;\n",
       "    }\n",
       "</style>\n",
       "<table border=\"1\" class=\"dataframe\">\n",
       "  <thead>\n",
       "    <tr style=\"text-align: right;\">\n",
       "      <th></th>\n",
       "      <th>Name</th>\n",
       "      <th>Gender</th>\n",
       "      <th>Age</th>\n",
       "      <th>Height (cm)</th>\n",
       "      <th>Weight (kg)</th>\n",
       "      <th>City</th>\n",
       "    </tr>\n",
       "  </thead>\n",
       "  <tbody>\n",
       "    <tr>\n",
       "      <th>0</th>\n",
       "      <td>Alice</td>\n",
       "      <td>Female</td>\n",
       "      <td>25</td>\n",
       "      <td>165</td>\n",
       "      <td>58</td>\n",
       "      <td>New York</td>\n",
       "    </tr>\n",
       "    <tr>\n",
       "      <th>1</th>\n",
       "      <td>Bob</td>\n",
       "      <td>Male</td>\n",
       "      <td>30</td>\n",
       "      <td>180</td>\n",
       "      <td>80</td>\n",
       "      <td>Los Angeles</td>\n",
       "    </tr>\n",
       "    <tr>\n",
       "      <th>2</th>\n",
       "      <td>Charlie</td>\n",
       "      <td>Male</td>\n",
       "      <td>35</td>\n",
       "      <td>175</td>\n",
       "      <td>70</td>\n",
       "      <td>Chicago</td>\n",
       "    </tr>\n",
       "    <tr>\n",
       "      <th>3</th>\n",
       "      <td>Diana</td>\n",
       "      <td>Female</td>\n",
       "      <td>28</td>\n",
       "      <td>170</td>\n",
       "      <td>65</td>\n",
       "      <td>Miami</td>\n",
       "    </tr>\n",
       "    <tr>\n",
       "      <th>4</th>\n",
       "      <td>Eva</td>\n",
       "      <td>Female</td>\n",
       "      <td>27</td>\n",
       "      <td>175</td>\n",
       "      <td>60</td>\n",
       "      <td>New York</td>\n",
       "    </tr>\n",
       "    <tr>\n",
       "      <th>5</th>\n",
       "      <td>Frank</td>\n",
       "      <td>Male</td>\n",
       "      <td>40</td>\n",
       "      <td>190</td>\n",
       "      <td>85</td>\n",
       "      <td>Houston</td>\n",
       "    </tr>\n",
       "    <tr>\n",
       "      <th>6</th>\n",
       "      <td>Grace</td>\n",
       "      <td>Female</td>\n",
       "      <td>32</td>\n",
       "      <td>168</td>\n",
       "      <td>55</td>\n",
       "      <td>Chicago</td>\n",
       "    </tr>\n",
       "    <tr>\n",
       "      <th>7</th>\n",
       "      <td>Henry</td>\n",
       "      <td>Male</td>\n",
       "      <td>45</td>\n",
       "      <td>175</td>\n",
       "      <td>75</td>\n",
       "      <td>Los Angeles</td>\n",
       "    </tr>\n",
       "    <tr>\n",
       "      <th>8</th>\n",
       "      <td>Ivy</td>\n",
       "      <td>Female</td>\n",
       "      <td>26</td>\n",
       "      <td>172</td>\n",
       "      <td>63</td>\n",
       "      <td>Miami</td>\n",
       "    </tr>\n",
       "    <tr>\n",
       "      <th>9</th>\n",
       "      <td>Jack</td>\n",
       "      <td>Male</td>\n",
       "      <td>28</td>\n",
       "      <td>180</td>\n",
       "      <td>78</td>\n",
       "      <td>New York</td>\n",
       "    </tr>\n",
       "  </tbody>\n",
       "</table>\n",
       "</div>"
      ],
      "text/plain": [
       "      Name  Gender  Age  Height (cm)  Weight (kg)         City\n",
       "0    Alice  Female   25          165           58     New York\n",
       "1      Bob    Male   30          180           80  Los Angeles\n",
       "2  Charlie    Male   35          175           70      Chicago\n",
       "3    Diana  Female   28          170           65        Miami\n",
       "4      Eva  Female   27          175           60     New York\n",
       "5    Frank    Male   40          190           85      Houston\n",
       "6    Grace  Female   32          168           55      Chicago\n",
       "7    Henry    Male   45          175           75  Los Angeles\n",
       "8      Ivy  Female   26          172           63        Miami\n",
       "9     Jack    Male   28          180           78     New York"
      ]
     },
     "execution_count": 15,
     "metadata": {},
     "output_type": "execute_result"
    }
   ],
   "source": [
    "dataframe"
   ]
  },
  {
   "cell_type": "code",
   "execution_count": 16,
   "id": "8f8cd23b-7bd6-4f60-8661-4e2dd7ecd8d9",
   "metadata": {},
   "outputs": [
    {
     "data": {
      "text/html": [
       "<div>\n",
       "<style scoped>\n",
       "    .dataframe tbody tr th:only-of-type {\n",
       "        vertical-align: middle;\n",
       "    }\n",
       "\n",
       "    .dataframe tbody tr th {\n",
       "        vertical-align: top;\n",
       "    }\n",
       "\n",
       "    .dataframe thead th {\n",
       "        text-align: right;\n",
       "    }\n",
       "</style>\n",
       "<table border=\"1\" class=\"dataframe\">\n",
       "  <thead>\n",
       "    <tr style=\"text-align: right;\">\n",
       "      <th></th>\n",
       "      <th>Name</th>\n",
       "      <th>Gender</th>\n",
       "      <th>Age</th>\n",
       "      <th>Height (cm)</th>\n",
       "      <th>Weight (kg)</th>\n",
       "      <th>City</th>\n",
       "    </tr>\n",
       "  </thead>\n",
       "  <tbody>\n",
       "    <tr>\n",
       "      <th>0</th>\n",
       "      <td>Alice</td>\n",
       "      <td>Female</td>\n",
       "      <td>25</td>\n",
       "      <td>165</td>\n",
       "      <td>58</td>\n",
       "      <td>New York</td>\n",
       "    </tr>\n",
       "    <tr>\n",
       "      <th>1</th>\n",
       "      <td>Bob</td>\n",
       "      <td>Male</td>\n",
       "      <td>30</td>\n",
       "      <td>180</td>\n",
       "      <td>80</td>\n",
       "      <td>Los Angeles</td>\n",
       "    </tr>\n",
       "    <tr>\n",
       "      <th>2</th>\n",
       "      <td>Charlie</td>\n",
       "      <td>Male</td>\n",
       "      <td>35</td>\n",
       "      <td>175</td>\n",
       "      <td>70</td>\n",
       "      <td>Chicago</td>\n",
       "    </tr>\n",
       "    <tr>\n",
       "      <th>3</th>\n",
       "      <td>Diana</td>\n",
       "      <td>Female</td>\n",
       "      <td>28</td>\n",
       "      <td>170</td>\n",
       "      <td>65</td>\n",
       "      <td>Miami</td>\n",
       "    </tr>\n",
       "    <tr>\n",
       "      <th>4</th>\n",
       "      <td>Eva</td>\n",
       "      <td>Female</td>\n",
       "      <td>27</td>\n",
       "      <td>175</td>\n",
       "      <td>60</td>\n",
       "      <td>New York</td>\n",
       "    </tr>\n",
       "  </tbody>\n",
       "</table>\n",
       "</div>"
      ],
      "text/plain": [
       "      Name  Gender  Age  Height (cm)  Weight (kg)         City\n",
       "0    Alice  Female   25          165           58     New York\n",
       "1      Bob    Male   30          180           80  Los Angeles\n",
       "2  Charlie    Male   35          175           70      Chicago\n",
       "3    Diana  Female   28          170           65        Miami\n",
       "4      Eva  Female   27          175           60     New York"
      ]
     },
     "execution_count": 16,
     "metadata": {},
     "output_type": "execute_result"
    }
   ],
   "source": [
    "dataframe.head(5)"
   ]
  },
  {
   "cell_type": "markdown",
   "id": "35530e6a-c554-4d02-84e3-8a0c2bcc3d77",
   "metadata": {},
   "source": [
    "\n",
    "2. Print the number of rows and columns in the DataFrame."
   ]
  },
  {
   "cell_type": "code",
   "execution_count": 17,
   "id": "6ed4fccf-8bd7-4dc2-baf4-be309c9f4d4e",
   "metadata": {},
   "outputs": [
    {
     "data": {
      "text/plain": [
       "(10, 6)"
      ]
     },
     "execution_count": 17,
     "metadata": {},
     "output_type": "execute_result"
    }
   ],
   "source": [
    "dataframe.shape"
   ]
  },
  {
   "cell_type": "markdown",
   "id": "5c97304d-2355-42ca-8ad7-4becd31f3583",
   "metadata": {},
   "source": [
    "3. Print the null value count"
   ]
  },
  {
   "cell_type": "code",
   "execution_count": 18,
   "id": "b8956488-225a-4996-bac9-06b600f07f64",
   "metadata": {},
   "outputs": [
    {
     "data": {
      "text/plain": [
       "Name           0\n",
       "Gender         0\n",
       "Age            0\n",
       "Height (cm)    0\n",
       "Weight (kg)    0\n",
       "City           0\n",
       "dtype: int64"
      ]
     },
     "execution_count": 18,
     "metadata": {},
     "output_type": "execute_result"
    }
   ],
   "source": [
    "dataframe.isnull().sum() "
   ]
  },
  {
   "cell_type": "markdown",
   "id": "89e3f903-13d5-4d28-8f61-a34126b47d9e",
   "metadata": {},
   "source": [
    "4. Print the average age, height, and weight of the people in the DataFrame."
   ]
  },
  {
   "cell_type": "code",
   "execution_count": 19,
   "id": "2841b685-068c-472f-8b40-4d8d53467aca",
   "metadata": {},
   "outputs": [
    {
     "data": {
      "text/html": [
       "<div>\n",
       "<style scoped>\n",
       "    .dataframe tbody tr th:only-of-type {\n",
       "        vertical-align: middle;\n",
       "    }\n",
       "\n",
       "    .dataframe tbody tr th {\n",
       "        vertical-align: top;\n",
       "    }\n",
       "\n",
       "    .dataframe thead th {\n",
       "        text-align: right;\n",
       "    }\n",
       "</style>\n",
       "<table border=\"1\" class=\"dataframe\">\n",
       "  <thead>\n",
       "    <tr style=\"text-align: right;\">\n",
       "      <th></th>\n",
       "      <th>Age</th>\n",
       "      <th>Height (cm)</th>\n",
       "      <th>Weight (kg)</th>\n",
       "    </tr>\n",
       "  </thead>\n",
       "  <tbody>\n",
       "    <tr>\n",
       "      <th>count</th>\n",
       "      <td>10.000000</td>\n",
       "      <td>10.000000</td>\n",
       "      <td>10.000000</td>\n",
       "    </tr>\n",
       "    <tr>\n",
       "      <th>mean</th>\n",
       "      <td>31.600000</td>\n",
       "      <td>175.000000</td>\n",
       "      <td>68.900000</td>\n",
       "    </tr>\n",
       "    <tr>\n",
       "      <th>std</th>\n",
       "      <td>6.552353</td>\n",
       "      <td>7.133645</td>\n",
       "      <td>10.246409</td>\n",
       "    </tr>\n",
       "    <tr>\n",
       "      <th>min</th>\n",
       "      <td>25.000000</td>\n",
       "      <td>165.000000</td>\n",
       "      <td>55.000000</td>\n",
       "    </tr>\n",
       "    <tr>\n",
       "      <th>25%</th>\n",
       "      <td>27.250000</td>\n",
       "      <td>170.500000</td>\n",
       "      <td>60.750000</td>\n",
       "    </tr>\n",
       "    <tr>\n",
       "      <th>50%</th>\n",
       "      <td>29.000000</td>\n",
       "      <td>175.000000</td>\n",
       "      <td>67.500000</td>\n",
       "    </tr>\n",
       "    <tr>\n",
       "      <th>75%</th>\n",
       "      <td>34.250000</td>\n",
       "      <td>178.750000</td>\n",
       "      <td>77.250000</td>\n",
       "    </tr>\n",
       "    <tr>\n",
       "      <th>max</th>\n",
       "      <td>45.000000</td>\n",
       "      <td>190.000000</td>\n",
       "      <td>85.000000</td>\n",
       "    </tr>\n",
       "  </tbody>\n",
       "</table>\n",
       "</div>"
      ],
      "text/plain": [
       "             Age  Height (cm)  Weight (kg)\n",
       "count  10.000000    10.000000    10.000000\n",
       "mean   31.600000   175.000000    68.900000\n",
       "std     6.552353     7.133645    10.246409\n",
       "min    25.000000   165.000000    55.000000\n",
       "25%    27.250000   170.500000    60.750000\n",
       "50%    29.000000   175.000000    67.500000\n",
       "75%    34.250000   178.750000    77.250000\n",
       "max    45.000000   190.000000    85.000000"
      ]
     },
     "execution_count": 19,
     "metadata": {},
     "output_type": "execute_result"
    }
   ],
   "source": [
    "dataframe.describe()"
   ]
  },
  {
   "cell_type": "code",
   "execution_count": 20,
   "id": "169c8107-e9a2-4d01-afd4-8f1cd99c2b8e",
   "metadata": {},
   "outputs": [
    {
     "name": "stdout",
     "output_type": "stream",
     "text": [
      "<class 'pandas.core.frame.DataFrame'>\n",
      "RangeIndex: 10 entries, 0 to 9\n",
      "Data columns (total 6 columns):\n",
      " #   Column       Non-Null Count  Dtype \n",
      "---  ------       --------------  ----- \n",
      " 0   Name         10 non-null     object\n",
      " 1   Gender       10 non-null     object\n",
      " 2   Age          10 non-null     int64 \n",
      " 3   Height (cm)  10 non-null     int64 \n",
      " 4   Weight (kg)  10 non-null     int64 \n",
      " 5   City         10 non-null     object\n",
      "dtypes: int64(3), object(3)\n",
      "memory usage: 612.0+ bytes\n"
     ]
    }
   ],
   "source": [
    "dataframe.info()"
   ]
  },
  {
   "cell_type": "code",
   "execution_count": 21,
   "id": "d937f745-4e0b-4dde-958f-0fb84f1ed946",
   "metadata": {},
   "outputs": [
    {
     "data": {
      "text/plain": [
       "Age             31.6\n",
       "Height (cm)    175.0\n",
       "Weight (kg)     68.9\n",
       "dtype: float64"
      ]
     },
     "execution_count": 21,
     "metadata": {},
     "output_type": "execute_result"
    }
   ],
   "source": [
    "dataframe[['Age','Height (cm)','Weight (kg)']].mean() "
   ]
  },
  {
   "cell_type": "markdown",
   "id": "16b212a5-5186-4f74-a508-7dbb476f672f",
   "metadata": {},
   "source": [
    "5. Print the name and city of the person who is the tallest in the DataFrame."
   ]
  },
  {
   "cell_type": "code",
   "execution_count": 22,
   "id": "4b4ca3ec-8073-4102-8ecc-99775870ac50",
   "metadata": {},
   "outputs": [
    {
     "data": {
      "text/plain": [
       "Name               Jack\n",
       "Gender             Male\n",
       "Age                  45\n",
       "Height (cm)         190\n",
       "Weight (kg)          85\n",
       "City           New York\n",
       "dtype: object"
      ]
     },
     "execution_count": 22,
     "metadata": {},
     "output_type": "execute_result"
    }
   ],
   "source": [
    "dataframe.max()"
   ]
  },
  {
   "cell_type": "markdown",
   "id": "0be6299f-99fe-4302-9b42-04bf480f6790",
   "metadata": {},
   "source": [
    "6. Create a new column in the DataFrame called \"BMI\" that calculates the body mass index of each person. BMI is calculated as weight (kg) divided by height (m) squared. Print the DataFrame with the new column."
   ]
  },
  {
   "cell_type": "code",
   "execution_count": 23,
   "id": "325028fc-e779-461f-bab4-898d04e1ac33",
   "metadata": {},
   "outputs": [],
   "source": [
    "dataframe= dataframe.rename(columns={'Height (cm)': 'Height', 'Weight (kg)': 'Weight'})"
   ]
  },
  {
   "cell_type": "code",
   "execution_count": 24,
   "id": "c297d555-d774-4c47-9b27-f74fc609b1a0",
   "metadata": {},
   "outputs": [
    {
     "name": "stdout",
     "output_type": "stream",
     "text": [
      "0    3515.151515\n",
      "1    4444.444444\n",
      "2    4000.000000\n",
      "3    3823.529412\n",
      "4    3428.571429\n",
      "5    4473.684211\n",
      "6    3273.809524\n",
      "7    4285.714286\n",
      "8    3662.790698\n",
      "9    4333.333333\n",
      "dtype: float64\n"
     ]
    }
   ],
   "source": [
    "BMI= dataframe['Weight'] / (dataframe['Height']/100**2)\n",
    "print(BMI)"
   ]
  },
  {
   "cell_type": "code",
   "execution_count": 25,
   "id": "4fd90f42-c348-42c4-ac04-ed66d24e6631",
   "metadata": {},
   "outputs": [
    {
     "name": "stdout",
     "output_type": "stream",
     "text": [
      "      Name  Gender  Age  Height  Weight         City          BMI\n",
      "0    Alice  Female   25     165      58     New York  3515.151515\n",
      "1      Bob    Male   30     180      80  Los Angeles  4444.444444\n",
      "2  Charlie    Male   35     175      70      Chicago  4000.000000\n",
      "3    Diana  Female   28     170      65        Miami  3823.529412\n",
      "4      Eva  Female   27     175      60     New York  3428.571429\n",
      "5    Frank    Male   40     190      85      Houston  4473.684211\n",
      "6    Grace  Female   32     168      55      Chicago  3273.809524\n",
      "7    Henry    Male   45     175      75  Los Angeles  4285.714286\n",
      "8      Ivy  Female   26     172      63        Miami  3662.790698\n",
      "9     Jack    Male   28     180      78     New York  4333.333333\n"
     ]
    }
   ],
   "source": [
    "dataframe['BMI']= BMI\n",
    "print(dataframe)"
   ]
  },
  {
   "cell_type": "markdown",
   "id": "dc5b3c50-bca6-40d2-b948-d1c5c4678d78",
   "metadata": {},
   "source": [
    "7. Group the data by gender and print the average age, height, and weight of males and females separately."
   ]
  },
  {
   "cell_type": "code",
   "execution_count": 26,
   "id": "86363f45-8745-4397-bb78-d3390f6635fb",
   "metadata": {},
   "outputs": [
    {
     "data": {
      "text/plain": [
       "Gender\n",
       "Female    5\n",
       "Male      5\n",
       "dtype: int64"
      ]
     },
     "execution_count": 26,
     "metadata": {},
     "output_type": "execute_result"
    }
   ],
   "source": [
    "dataframe.groupby(by='Gender').size()"
   ]
  },
  {
   "cell_type": "code",
   "execution_count": 27,
   "id": "9a6bfe23-7de5-4620-8820-81711d28ad4a",
   "metadata": {},
   "outputs": [
    {
     "name": "stdout",
     "output_type": "stream",
     "text": [
      "Gender\n",
      "Female    27.6\n",
      "Male      35.6\n",
      "Name: Age, dtype: float64 Gender\n",
      "Female    170.0\n",
      "Male      180.0\n",
      "Name: Height, dtype: float64 Gender\n",
      "Female    60.2\n",
      "Male      77.6\n",
      "Name: Weight, dtype: float64\n"
     ]
    }
   ],
   "source": [
    "gender_age=dataframe.groupby(by='Gender')['Age'].mean()\n",
    "gender_height=dataframe.groupby(by='Gender')['Height'].mean()\n",
    "gender_weight=dataframe.groupby(by='Gender')['Weight'].mean()\n",
    "print(gender_age,gender_height,gender_weight)"
   ]
  },
  {
   "cell_type": "markdown",
   "id": "1d7183d3-8ff5-4d6a-b7a0-d31bdd5250b1",
   "metadata": {},
   "source": [
    "8. Sort the data by age in ascending order and print the first 3 rows of the sorted DataFrame."
   ]
  },
  {
   "cell_type": "code",
   "execution_count": 28,
   "id": "41d779a5-55bb-44a3-a4a9-19d6db0d16db",
   "metadata": {},
   "outputs": [
    {
     "data": {
      "text/html": [
       "<div>\n",
       "<style scoped>\n",
       "    .dataframe tbody tr th:only-of-type {\n",
       "        vertical-align: middle;\n",
       "    }\n",
       "\n",
       "    .dataframe tbody tr th {\n",
       "        vertical-align: top;\n",
       "    }\n",
       "\n",
       "    .dataframe thead th {\n",
       "        text-align: right;\n",
       "    }\n",
       "</style>\n",
       "<table border=\"1\" class=\"dataframe\">\n",
       "  <thead>\n",
       "    <tr style=\"text-align: right;\">\n",
       "      <th></th>\n",
       "      <th>Name</th>\n",
       "      <th>Gender</th>\n",
       "      <th>Age</th>\n",
       "      <th>Height</th>\n",
       "      <th>Weight</th>\n",
       "      <th>City</th>\n",
       "      <th>BMI</th>\n",
       "    </tr>\n",
       "  </thead>\n",
       "  <tbody>\n",
       "    <tr>\n",
       "      <th>0</th>\n",
       "      <td>Alice</td>\n",
       "      <td>Female</td>\n",
       "      <td>25</td>\n",
       "      <td>165</td>\n",
       "      <td>58</td>\n",
       "      <td>New York</td>\n",
       "      <td>3515.151515</td>\n",
       "    </tr>\n",
       "    <tr>\n",
       "      <th>8</th>\n",
       "      <td>Ivy</td>\n",
       "      <td>Female</td>\n",
       "      <td>26</td>\n",
       "      <td>172</td>\n",
       "      <td>63</td>\n",
       "      <td>Miami</td>\n",
       "      <td>3662.790698</td>\n",
       "    </tr>\n",
       "    <tr>\n",
       "      <th>4</th>\n",
       "      <td>Eva</td>\n",
       "      <td>Female</td>\n",
       "      <td>27</td>\n",
       "      <td>175</td>\n",
       "      <td>60</td>\n",
       "      <td>New York</td>\n",
       "      <td>3428.571429</td>\n",
       "    </tr>\n",
       "  </tbody>\n",
       "</table>\n",
       "</div>"
      ],
      "text/plain": [
       "    Name  Gender  Age  Height  Weight      City          BMI\n",
       "0  Alice  Female   25     165      58  New York  3515.151515\n",
       "8    Ivy  Female   26     172      63     Miami  3662.790698\n",
       "4    Eva  Female   27     175      60  New York  3428.571429"
      ]
     },
     "execution_count": 28,
     "metadata": {},
     "output_type": "execute_result"
    }
   ],
   "source": [
    "h= dataframe.sort_values(by=['Age'])\n",
    "h.head(3) "
   ]
  },
  {
   "cell_type": "markdown",
   "id": "b6716178-7f39-4396-8afa-7f7ff7c370af",
   "metadata": {},
   "source": [
    "9. Filter the data to only include people who live in New York and print the resulting DataFrame."
   ]
  },
  {
   "cell_type": "code",
   "execution_count": 29,
   "id": "39724435-9718-4431-a625-b63832a5834c",
   "metadata": {},
   "outputs": [
    {
     "data": {
      "text/html": [
       "<div>\n",
       "<style scoped>\n",
       "    .dataframe tbody tr th:only-of-type {\n",
       "        vertical-align: middle;\n",
       "    }\n",
       "\n",
       "    .dataframe tbody tr th {\n",
       "        vertical-align: top;\n",
       "    }\n",
       "\n",
       "    .dataframe thead th {\n",
       "        text-align: right;\n",
       "    }\n",
       "</style>\n",
       "<table border=\"1\" class=\"dataframe\">\n",
       "  <thead>\n",
       "    <tr style=\"text-align: right;\">\n",
       "      <th></th>\n",
       "      <th>Name</th>\n",
       "      <th>Gender</th>\n",
       "      <th>Age</th>\n",
       "      <th>Height</th>\n",
       "      <th>Weight</th>\n",
       "      <th>City</th>\n",
       "      <th>BMI</th>\n",
       "    </tr>\n",
       "  </thead>\n",
       "  <tbody>\n",
       "    <tr>\n",
       "      <th>0</th>\n",
       "      <td>Alice</td>\n",
       "      <td>Female</td>\n",
       "      <td>25</td>\n",
       "      <td>165</td>\n",
       "      <td>58</td>\n",
       "      <td>New York</td>\n",
       "      <td>3515.151515</td>\n",
       "    </tr>\n",
       "    <tr>\n",
       "      <th>4</th>\n",
       "      <td>Eva</td>\n",
       "      <td>Female</td>\n",
       "      <td>27</td>\n",
       "      <td>175</td>\n",
       "      <td>60</td>\n",
       "      <td>New York</td>\n",
       "      <td>3428.571429</td>\n",
       "    </tr>\n",
       "    <tr>\n",
       "      <th>9</th>\n",
       "      <td>Jack</td>\n",
       "      <td>Male</td>\n",
       "      <td>28</td>\n",
       "      <td>180</td>\n",
       "      <td>78</td>\n",
       "      <td>New York</td>\n",
       "      <td>4333.333333</td>\n",
       "    </tr>\n",
       "  </tbody>\n",
       "</table>\n",
       "</div>"
      ],
      "text/plain": [
       "    Name  Gender  Age  Height  Weight      City          BMI\n",
       "0  Alice  Female   25     165      58  New York  3515.151515\n",
       "4    Eva  Female   27     175      60  New York  3428.571429\n",
       "9   Jack    Male   28     180      78  New York  4333.333333"
      ]
     },
     "execution_count": 29,
     "metadata": {},
     "output_type": "execute_result"
    }
   ],
   "source": [
    "dataframe[(dataframe.City=='New York')]"
   ]
  },
  {
   "cell_type": "code",
   "execution_count": null,
   "id": "70524e91-1f17-44b5-a32a-be4a96bdcaaa",
   "metadata": {},
   "outputs": [],
   "source": []
  }
 ],
 "metadata": {
  "kernelspec": {
   "display_name": "Python 3 (ipykernel)",
   "language": "python",
   "name": "python3"
  },
  "language_info": {
   "codemirror_mode": {
    "name": "ipython",
    "version": 3
   },
   "file_extension": ".py",
   "mimetype": "text/x-python",
   "name": "python",
   "nbconvert_exporter": "python",
   "pygments_lexer": "ipython3",
   "version": "3.11.4"
  }
 },
 "nbformat": 4,
 "nbformat_minor": 5
}

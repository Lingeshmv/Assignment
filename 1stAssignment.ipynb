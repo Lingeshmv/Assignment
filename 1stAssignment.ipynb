{
 "cells": [
  {
   "cell_type": "markdown",
   "id": "6e21ddd1-43ec-4884-b3c4-76ec7aec3399",
   "metadata": {},
   "source": [
    "Question 1. Create a variable x and assign it the value 5. Print the value of x."
   ]
  },
  {
   "cell_type": "code",
   "execution_count": 19,
   "id": "ce845a6a-ad00-446c-8222-44d15cb17370",
   "metadata": {},
   "outputs": [
    {
     "name": "stdout",
     "output_type": "stream",
     "text": [
      "5\n"
     ]
    }
   ],
   "source": [
    "x=5\n",
    "print(x)"
   ]
  },
  {
   "cell_type": "markdown",
   "id": "375e7aa9-3c61-42a8-9a6f-4e21a83867b1",
   "metadata": {},
   "source": [
    "Question 2. Create two variables a and b, and assign them values 3 and 2 respectively. Add a and b together and print the result."
   ]
  },
  {
   "cell_type": "code",
   "execution_count": 20,
   "id": "8e6eb268-df71-487c-9794-8f5b7983c260",
   "metadata": {},
   "outputs": [
    {
     "name": "stdout",
     "output_type": "stream",
     "text": [
      "5\n"
     ]
    }
   ],
   "source": [
    "a=3\n",
    "b=2\n",
    "c=a+b\n",
    "print(c)"
   ]
  },
  {
   "cell_type": "markdown",
   "id": "d98d98e9-f47f-4f18-a286-b3e3e2818eb0",
   "metadata": {},
   "source": [
    "Question 3. Create a variable pi and assign it the value 3.14159. Print the value of pi."
   ]
  },
  {
   "cell_type": "code",
   "execution_count": 21,
   "id": "820c24bf-4c7d-4855-8771-1c8e5547e73c",
   "metadata": {},
   "outputs": [
    {
     "name": "stdout",
     "output_type": "stream",
     "text": [
      "3.14159\n"
     ]
    }
   ],
   "source": [
    "pi=3.14159\n",
    "print(pi)"
   ]
  },
  {
   "cell_type": "markdown",
   "id": "9afbe2e6-6408-43b8-bd8c-a6241aff5864",
   "metadata": {},
   "source": [
    "Question 4. Create a variable radius and assign it the value 5. Calculate the area of a circle with radius radius using the formula pi * radius ** 2 and print the result."
   ]
  },
  {
   "cell_type": "code",
   "execution_count": 22,
   "id": "5cb6f089-13d9-40dc-bb5b-bff4cc13d4f9",
   "metadata": {},
   "outputs": [
    {
     "name": "stdout",
     "output_type": "stream",
     "text": [
      "78.53975\n"
     ]
    }
   ],
   "source": [
    "radius=5\n",
    "area=pi*radius**2\n",
    "print(area)"
   ]
  },
  {
   "cell_type": "markdown",
   "id": "b6ee4c7d-339c-4215-9a04-fa054832ac38",
   "metadata": {},
   "source": [
    "Question 5. Create a variable name and assign it your name as a string. Print a greeting using your name, such as \"Hello, [name]!\""
   ]
  },
  {
   "cell_type": "code",
   "execution_count": 23,
   "id": "fe5d3e75-f91a-42b1-b666-bb079f2d0622",
   "metadata": {},
   "outputs": [
    {
     "name": "stdout",
     "output_type": "stream",
     "text": [
      "\"Hello, linguu!\"\n"
     ]
    }
   ],
   "source": [
    "name=\"linguu\"\n",
    "print(f'\"Hello, {name}!\"')"
   ]
  },
  {
   "cell_type": "markdown",
   "id": "f6790747-4c0a-4a5b-9e3f-89945825a2c5",
   "metadata": {},
   "source": [
    "Question 6. Create a variable age and assign it your age as an integer. Print a sentence that includes your age, such as \"I am[age] years old.\""
   ]
  },
  {
   "cell_type": "code",
   "execution_count": 24,
   "id": "6824814f-5986-4b17-aeb7-c6235965059d",
   "metadata": {},
   "outputs": [
    {
     "name": "stdout",
     "output_type": "stream",
     "text": [
      "\"I am 20 years old\"\n"
     ]
    }
   ],
   "source": [
    "age=int(20)\n",
    "print(f'\"I am {age} years old\"')"
   ]
  },
  {
   "cell_type": "markdown",
   "id": "8b786136-6061-4f91-b03f-2c54d638e6ea",
   "metadata": {},
   "source": [
    "Question 7: Create a variable height and assign it your height in meters as a float. Print a sentence that includes your height, such as \"I am [height] meters tall.\""
   ]
  },
  {
   "cell_type": "code",
   "execution_count": 25,
   "id": "3ab64868-acf7-4e1f-9915-4123f2a3ec43",
   "metadata": {},
   "outputs": [
    {
     "name": "stdout",
     "output_type": "stream",
     "text": [
      "\"I am 163.0 meters tall\"\n"
     ]
    }
   ],
   "source": [
    "height=float(163)\n",
    "print(f'\"I am {height} meters tall\"')"
   ]
  },
  {
   "cell_type": "markdown",
   "id": "e26f2afb-d411-46c6-aebb-ca8232cbb4a0",
   "metadata": {},
   "source": [
    "Question 8. Create a variable sentence and assign it a sentence as a string. Print the first letter of the sentence."
   ]
  },
  {
   "cell_type": "code",
   "execution_count": 26,
   "id": "ec5e83bd-79a4-48fb-9b2e-7c0ed8b15678",
   "metadata": {},
   "outputs": [
    {
     "name": "stdout",
     "output_type": "stream",
     "text": [
      "H\n"
     ]
    }
   ],
   "source": [
    "txt=\"Hi this is lingesh\"\n",
    "print(txt[0])"
   ]
  },
  {
   "cell_type": "markdown",
   "id": "ab721d70-5848-4125-8e3e-c86371033182",
   "metadata": {},
   "source": [
    "Question 9. Create a variable sentence and assign it a sentence as a string. Print the last letter of the sentence.)"
   ]
  },
  {
   "cell_type": "code",
   "execution_count": 27,
   "id": "13683f79-c585-4aad-a585-f9e965272576",
   "metadata": {},
   "outputs": [
    {
     "name": "stdout",
     "output_type": "stream",
     "text": [
      "h\n"
     ]
    }
   ],
   "source": [
    "print(txt[-1])"
   ]
  },
  {
   "cell_type": "markdown",
   "id": "a88db38c-10c0-4d2e-b802-005895281bc0",
   "metadata": {},
   "source": [
    "Question 10. Create a variable sentence and assign it a sentence as a string. Print the length of the sentence."
   ]
  },
  {
   "cell_type": "code",
   "execution_count": 28,
   "id": "97ddabd0-ad8c-43d5-9458-71944b5fe3e2",
   "metadata": {},
   "outputs": [
    {
     "name": "stdout",
     "output_type": "stream",
     "text": [
      "18\n"
     ]
    }
   ],
   "source": [
    "print(len(txt))"
   ]
  },
  {
   "cell_type": "code",
   "execution_count": null,
   "id": "4d490102-cf79-45be-9602-4f2c739c9674",
   "metadata": {},
   "outputs": [],
   "source": []
  }
 ],
 "metadata": {
  "kernelspec": {
   "display_name": "Python 3 (ipykernel)",
   "language": "python",
   "name": "python3"
  },
  "language_info": {
   "codemirror_mode": {
    "name": "ipython",
    "version": 3
   },
   "file_extension": ".py",
   "mimetype": "text/x-python",
   "name": "python",
   "nbconvert_exporter": "python",
   "pygments_lexer": "ipython3",
   "version": "3.11.4"
  }
 },
 "nbformat": 4,
 "nbformat_minor": 5
}
